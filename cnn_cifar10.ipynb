{
  "nbformat": 4,
  "nbformat_minor": 5,
  "metadata": {
    "kernelspec": {
      "display_name": "Python 3",
      "language": "python",
      "name": "python3"
    },
    "language_info": {
      "codemirror_mode": {
        "name": "ipython",
        "version": 3
      },
      "file_extension": ".py",
      "mimetype": "text/x-python",
      "name": "python",
      "nbconvert_exporter": "python",
      "pygments_lexer": "ipython3",
      "version": "3.8.8"
    },
    "colab": {
      "name": "cnn_cifar10.ipynb",
      "provenance": [],
      "include_colab_link": true
    }
  },
  "cells": [
    {
      "cell_type": "markdown",
      "metadata": {
        "id": "view-in-github",
        "colab_type": "text"
      },
      "source": [
        "<a href=\"https://colab.research.google.com/github/amitroyal8755/Project/blob/main/cnn_cifar10.ipynb\" target=\"_parent\"><img src=\"https://colab.research.google.com/assets/colab-badge.svg\" alt=\"Open In Colab\"/></a>"
      ]
    },
    {
      "cell_type": "code",
      "metadata": {
        "id": "353c2465"
      },
      "source": [
        "import tensorflow as tf\n",
        "from tensorflow.keras import datasets, layers, models\n",
        "import matplotlib.pyplot as plt\n",
        "import numpy as np             #import all library related with datasets"
      ],
      "id": "353c2465",
      "execution_count": 1,
      "outputs": []
    },
    {
      "cell_type": "code",
      "metadata": {
        "id": "pEgJufRDia0Q"
      },
      "source": [
        "(x_train,y_train),(x_test,y_test)=datasets.cifar10.load_data()"
      ],
      "id": "pEgJufRDia0Q",
      "execution_count": 5,
      "outputs": []
    },
    {
      "cell_type": "code",
      "metadata": {
        "colab": {
          "base_uri": "https://localhost:8080/"
        },
        "id": "Upbfr1buiVBI",
        "outputId": "511483f7-9986-4520-de5f-aa9433a7697b"
      },
      "source": [
        "x_train.shape"
      ],
      "id": "Upbfr1buiVBI",
      "execution_count": 6,
      "outputs": [
        {
          "output_type": "execute_result",
          "data": {
            "text/plain": [
              "(50000, 32, 32, 3)"
            ]
          },
          "metadata": {
            "tags": []
          },
          "execution_count": 6
        }
      ]
    },
    {
      "cell_type": "code",
      "metadata": {
        "colab": {
          "base_uri": "https://localhost:8080/"
        },
        "id": "T0qA3vHfio-W",
        "outputId": "cef99b63-e2f6-4dc3-b447-1477a65a0a65"
      },
      "source": [
        "y_train.shape"
      ],
      "id": "T0qA3vHfio-W",
      "execution_count": 7,
      "outputs": [
        {
          "output_type": "execute_result",
          "data": {
            "text/plain": [
              "(50000, 1)"
            ]
          },
          "metadata": {
            "tags": []
          },
          "execution_count": 7
        }
      ]
    },
    {
      "cell_type": "code",
      "metadata": {
        "colab": {
          "base_uri": "https://localhost:8080/"
        },
        "id": "27920d1a",
        "outputId": "586686fc-7146-4148-fc48-4bb75958dc9f"
      },
      "source": [
        "y_trian[:5]"
      ],
      "id": "27920d1a",
      "execution_count": 8,
      "outputs": [
        {
          "output_type": "execute_result",
          "data": {
            "text/plain": [
              "array([[6],\n",
              "       [9],\n",
              "       [9],\n",
              "       [4],\n",
              "       [1]], dtype=uint8)"
            ]
          },
          "metadata": {
            "tags": []
          },
          "execution_count": 8
        }
      ]
    },
    {
      "cell_type": "code",
      "metadata": {
        "id": "KkJmYA7oi7Mh"
      },
      "source": [
        "y_train=y_train.reshape(-1,)"
      ],
      "id": "KkJmYA7oi7Mh",
      "execution_count": 13,
      "outputs": []
    },
    {
      "cell_type": "code",
      "metadata": {
        "id": "5a0a3a08"
      },
      "source": [
        "y_test=y_test.reshape(-1,)"
      ],
      "id": "5a0a3a08",
      "execution_count": 14,
      "outputs": []
    },
    {
      "cell_type": "code",
      "metadata": {
        "id": "76df8af9"
      },
      "source": [
        "classes = [\"airplane\",\"automobile\",\"bird\",\"cat\",\"deer\",\"dog\",\"frog\",\"horse\",\"ship\",\"truck\"]\n",
        "def plot_sample(X, y, index):\n",
        "    plt.figure(figsize = (15,2))\n",
        "    plt.imshow(X[index])\n",
        "    plt.xlabel(classes[y[index]])"
      ],
      "id": "76df8af9",
      "execution_count": 15,
      "outputs": []
    },
    {
      "cell_type": "code",
      "metadata": {
        "colab": {
          "base_uri": "https://localhost:8080/",
          "height": 173
        },
        "id": "Rlcl8cNkjsdn",
        "outputId": "228540d5-3514-4d1a-b6ca-d6542123ef33"
      },
      "source": [
        "plot_sample(x_train,y_train,2)"
      ],
      "id": "Rlcl8cNkjsdn",
      "execution_count": 17,
      "outputs": [
        {
          "output_type": "display_data",
          "data": {
            "image/png": "[encoded data removed]",
            "text/plain": [
              "<Figure size 1080x144 with 1 Axes>"
            ]
          },
          "metadata": {
            "tags": [],
            "needs_background": "light"
          }
        }
      ]
    },
    {
      "cell_type": "code",
      "metadata": {
        "colab": {
          "base_uri": "https://localhost:8080/"
        },
        "id": "BtZStfWmkYdL",
        "outputId": "389dc820-a3ec-41ec-dfdc-d27857ff3605"
      },
      "source": [
        "cnn = models.Sequential([\n",
        "    layers.Conv2D(filters=32, kernel_size=(3, 3), activation='relu', input_shape=(32, 32, 3)),\n",
        "    layers.MaxPooling2D((2, 2)),\n",
        "    \n",
        "    layers.Conv2D(filters=64, kernel_size=(3, 3), activation='relu'),\n",
        "    layers.MaxPooling2D((2, 2)),\n",
        "    \n",
        "    layers.Flatten(),\n",
        "    layers.Dense(64, activation='relu'),\n",
        "    layers.Dense(10, activation='softmax')\n",
        "])\n",
        "cnn.compile(optimizer='adam',\n",
        "              loss='sparse_categorical_crossentropy',\n",
        "              metrics=['accuracy'])\n",
        "cnn.fit(x_train, y_train, epochs=10)\n"
      ],
      "id": "BtZStfWmkYdL",
      "execution_count": 19,
      "outputs": [
        {
          "output_type": "stream",
          "text": [
            "Epoch 1/10\n",
            "1563/1563 [==============================] - 64s 41ms/step - loss: 1.6640 - accuracy: 0.4231\n",
            "Epoch 2/10\n",
            "1563/1563 [==============================] - 63s 40ms/step - loss: 1.2459 - accuracy: 0.5591\n",
            "Epoch 3/10\n",
            "1563/1563 [==============================] - 63s 40ms/step - loss: 1.0997 - accuracy: 0.6139\n",
            "Epoch 4/10\n",
            "1563/1563 [==============================] - 63s 40ms/step - loss: 1.0002 - accuracy: 0.6539\n",
            "Epoch 5/10\n",
            "1563/1563 [==============================] - 63s 40ms/step - loss: 0.9306 - accuracy: 0.6769\n",
            "Epoch 6/10\n",
            "1563/1563 [==============================] - 63s 40ms/step - loss: 0.8703 - accuracy: 0.6999\n",
            "Epoch 7/10\n",
            "1563/1563 [==============================] - 62s 40ms/step - loss: 0.8219 - accuracy: 0.7144\n",
            "Epoch 8/10\n",
            "1563/1563 [==============================] - 62s 40ms/step - loss: 0.7765 - accuracy: 0.7304\n",
            "Epoch 9/10\n",
            "1563/1563 [==============================] - 63s 40ms/step - loss: 0.7416 - accuracy: 0.7438\n",
            "Epoch 10/10\n",
            "1563/1563 [==============================] - 62s 40ms/step - loss: 0.7011 - accuracy: 0.7589\n"
          ],
          "name": "stdout"
        },
        {
          "output_type": "execute_result",
          "data": {
            "text/plain": [
              "<tensorflow.python.keras.callbacks.History at 0x7f11e1ddb7d0>"
            ]
          },
          "metadata": {
            "tags": []
          },
          "execution_count": 19
        }
      ]
    },
    {
      "cell_type": "code",
      "metadata": {
        "colab": {
          "base_uri": "https://localhost:8080/"
        },
        "id": "4gAQDjDTkLZG",
        "outputId": "bd050d83-a700-4f31-d1a8-b4115651cdde"
      },
      "source": [
        "cnn.evaluate(x_test,y_test)"
      ],
      "id": "4gAQDjDTkLZG",
      "execution_count": 22,
      "outputs": [
        {
          "output_type": "stream",
          "text": [
            "313/313 [==============================] - 4s 13ms/step - loss: 1.0899 - accuracy: 0.6637\n"
          ],
          "name": "stdout"
        },
        {
          "output_type": "execute_result",
          "data": {
            "text/plain": [
              "[1.089930772781372, 0.6636999845504761]"
            ]
          },
          "metadata": {
            "tags": []
          },
          "execution_count": 22
        }
      ]
    },
    {
      "cell_type": "code",
      "metadata": {
        "id": "Qo2RruKqkGN4"
      },
      "source": [
        "y_pred = cnn.predict(x_test)"
      ],
      "id": "Qo2RruKqkGN4",
      "execution_count": 23,
      "outputs": []
    },
    {
      "cell_type": "code",
      "metadata": {
        "colab": {
          "base_uri": "https://localhost:8080/"
        },
        "id": "dYjBluO5oAzY",
        "outputId": "52369bb9-6bfa-4714-b3c7-e8da4aa2a0c2"
      },
      "source": [
        "y_pred[:5]"
      ],
      "id": "dYjBluO5oAzY",
      "execution_count": 24,
      "outputs": [
        {
          "output_type": "execute_result",
          "data": {
            "text/plain": [
              "array([[2.39537028e-03, 9.85010876e-04, 1.64580122e-02, 6.36769831e-01,\n",
              "        2.74353981e-04, 7.35905915e-02, 6.44173697e-02, 9.77586838e-04,\n",
              "        1.97383568e-01, 6.74838014e-03],\n",
              "       [1.07938973e-02, 7.89413095e-01, 8.41591259e-07, 3.25252955e-07,\n",
              "        1.92974525e-07, 5.56857338e-10, 3.97576869e-08, 1.30983402e-09,\n",
              "        7.09232911e-02, 1.28868386e-01],\n",
              "       [1.24952435e-01, 1.21339962e-01, 3.11443489e-03, 4.35408112e-03,\n",
              "        1.92653586e-03, 3.04526708e-04, 1.52835622e-03, 1.09151565e-03,\n",
              "        4.60649461e-01, 2.80738682e-01],\n",
              "       [6.36996508e-01, 2.36560751e-04, 2.46045720e-02, 5.10479771e-02,\n",
              "        1.96147914e-04, 1.92628681e-06, 7.74181820e-03, 1.52319946e-04,\n",
              "        2.78145730e-01, 8.76388629e-04],\n",
              "       [2.47180233e-05, 5.75351487e-06, 1.99598307e-03, 1.66078079e-02,\n",
              "        1.27655780e-02, 6.81393268e-03, 9.61658418e-01, 5.08010817e-06,\n",
              "        4.15443137e-05, 8.11358987e-05]], dtype=float32)"
            ]
          },
          "metadata": {
            "tags": []
          },
          "execution_count": 24
        }
      ]
    },
    {
      "cell_type": "code",
      "metadata": {
        "id": "fvyXJpJKoD1N"
      },
      "source": [
        "y_classes = [np.argmax(element) for element in y_pred]"
      ],
      "id": "fvyXJpJKoD1N",
      "execution_count": 25,
      "outputs": []
    },
    {
      "cell_type": "code",
      "metadata": {
        "colab": {
          "base_uri": "https://localhost:8080/"
        },
        "id": "xYuIW3XfoJbh",
        "outputId": "45aa24ee-af37-490f-9369-5302b23e68fd"
      },
      "source": [
        "y_classes[:5]"
      ],
      "id": "xYuIW3XfoJbh",
      "execution_count": 26,
      "outputs": [
        {
          "output_type": "execute_result",
          "data": {
            "text/plain": [
              "[3, 1, 8, 0, 6]"
            ]
          },
          "metadata": {
            "tags": []
          },
          "execution_count": 26
        }
      ]
    },
    {
      "cell_type": "code",
      "metadata": {
        "colab": {
          "base_uri": "https://localhost:8080/",
          "height": 173
        },
        "id": "mdxHT2lfoOOo",
        "outputId": "09620ba7-156b-4ce2-fd8a-f3833d7b7bc4"
      },
      "source": [
        "plot_sample(x_test, y_test,3)"
      ],
      "id": "mdxHT2lfoOOo",
      "execution_count": 28,
      "outputs": [
        {
          "output_type": "display_data",
          "data": {
            "image/png": "[encoded data removed]",
            "text/plain": [
              "<Figure size 1080x144 with 1 Axes>"
            ]
          },
          "metadata": {
            "tags": [],
            "needs_background": "light"
          }
        }
      ]
    },
    {
      "cell_type": "code",
      "metadata": {
        "id": "f88ffff8"
      },
      "source": [
        "from sklearn.metrics import classification_report"
      ],
      "id": "f88ffff8",
      "execution_count": 29,
      "outputs": []
    },
    {
      "cell_type": "code",
      "metadata": {
        "colab": {
          "base_uri": "https://localhost:8080/"
        },
        "id": "wOiOeTQBod5B",
        "outputId": "1dc521b3-a18e-4834-9f37-537c4dc72481"
      },
      "source": [
        "from sklearn.metrics import confusion_matrix , classification_report\n",
        "import numpy as np\n",
        "y_pred = cnn.predict(x_test)\n",
        "y_pred_classes = [np.argmax(element) for element in y_pred]\n",
        "\n",
        "print(\"Classification Report: \\n\", classification_report(y_test, y_pred_classes))"
      ],
      "id": "wOiOeTQBod5B",
      "execution_count": 32,
      "outputs": [
        {
          "output_type": "stream",
          "text": [
            "Classification Report: \n",
            "               precision    recall  f1-score   support\n",
            "\n",
            "           0       0.75      0.59      0.66      1000\n",
            "           1       0.84      0.70      0.77      1000\n",
            "           2       0.59      0.53      0.56      1000\n",
            "           3       0.46      0.47      0.46      1000\n",
            "           4       0.60      0.63      0.62      1000\n",
            "           5       0.55      0.61      0.58      1000\n",
            "           6       0.74      0.75      0.75      1000\n",
            "           7       0.70      0.73      0.72      1000\n",
            "           8       0.72      0.81      0.76      1000\n",
            "           9       0.72      0.81      0.76      1000\n",
            "\n",
            "    accuracy                           0.66     10000\n",
            "   macro avg       0.67      0.66      0.66     10000\n",
            "weighted avg       0.67      0.66      0.66     10000\n",
            "\n"
          ],
          "name": "stdout"
        }
      ]
    },
    {
      "cell_type": "code",
      "metadata": {
        "id": "-ROvMBSeoiqJ"
      },
      "source": [
        ""
      ],
      "id": "-ROvMBSeoiqJ",
      "execution_count": null,
      "outputs": []
    }
  ]
}